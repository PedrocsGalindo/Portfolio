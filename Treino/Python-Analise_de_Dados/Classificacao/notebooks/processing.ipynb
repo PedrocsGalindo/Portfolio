{
 "cells": [
  {
   "cell_type": "code",
   "execution_count": 39,
   "metadata": {},
   "outputs": [],
   "source": [
    "import pandas as pd\n",
    "import json\n",
    "\n",
    "\n",
    "dados = pd.read_csv('../data/raw/Churn_Modelling.csv')\n",
    "dados = dados.dropna(subset=['IsActiveMember'])\n",
    "dados['IsActiveMember'] = dados['IsActiveMember'].astype(int)\n",
    "dados['Gender'] = dados['Gender'].str.lower()\n",
    "dados['Geography'] = dados['Geography'].str.lower()\n",
    "dados = dados.dropna()\n",
    "dados = dados.drop_duplicates(subset=['CustomerId'])\n",
    "dados = dados.drop(columns=['Surname','RowNumber','CustomerId'])"
   ]
  },
  {
   "cell_type": "code",
   "execution_count": 40,
   "metadata": {},
   "outputs": [],
   "source": [
    "dados_train = dados.sample(frac=0.8, random_state=42)\n",
    "dados_test = dados.drop(dados_train.index)"
   ]
  },
  {
   "cell_type": "markdown",
   "metadata": {},
   "source": [
    "Separando por Geografia e Genero"
   ]
  },
  {
   "cell_type": "code",
   "execution_count": 41,
   "metadata": {},
   "outputs": [],
   "source": [
    "dados_france_m = dados_train[(dados_train['Geography'] == 'france') & (dados_train['Gender'] == 'male')]\n",
    "dados_france_f = dados_train[(dados_train['Geography'] == 'france') & (dados_train['Gender'] == 'female')]\n",
    "dados_germany_m = dados_train[(dados_train['Geography'] == 'germany') & (dados_train['Gender'] == 'male')]\n",
    "dados_germany_f = dados_train[(dados_train['Geography'] == 'germany') & (dados_train['Gender'] == 'female')]\n",
    "dados_spain_m = dados_train[(dados_train['Geography'] == 'spain') & (dados_train['Gender'] == 'male')]\n",
    "dados_spain_f = dados_train[(dados_train['Geography'] == 'spain') & (dados_train['Gender'] == 'female')]\n"
   ]
  },
  {
   "cell_type": "code",
   "execution_count": 42,
   "metadata": {},
   "outputs": [],
   "source": [
    "dados_dict = {\n",
    "    'France_Male': dados_france_m,\n",
    "    'France_Female': dados_france_f,\n",
    "    'Germany_Male': dados_germany_m,\n",
    "    'Germany_Female': dados_germany_f,\n",
    "    'Spain_Male': dados_spain_m,\n",
    "    'Spain_Female': dados_spain_f,\n",
    "}\n",
    "dados_dict_train_test = {\n",
    "    'Train' : dados_train,\n",
    "    'Test' : dados_test\n",
    "}\n",
    "\n",
    "dados_dict_json = {key: value.to_dict() for key, value in dados_dict.items()}\n",
    "dados_dict_json2 = {key: value.to_dict() for key, value in dados_dict_train_test.items()}\n",
    "\n",
    "with open('../data/processed/dados_por_genero_e_regiao.json', 'w') as f:\n",
    "    json.dump(dados_dict_json, f)\n",
    "with open('../data/processed/dados_train_test.json', 'w') as f:\n",
    "    json.dump(dados_dict_json2, f)"
   ]
  }
 ],
 "metadata": {
  "kernelspec": {
   "display_name": "base",
   "language": "python",
   "name": "python3"
  },
  "language_info": {
   "codemirror_mode": {
    "name": "ipython",
    "version": 3
   },
   "file_extension": ".py",
   "mimetype": "text/x-python",
   "name": "python",
   "nbconvert_exporter": "python",
   "pygments_lexer": "ipython3",
   "version": "3.12.7"
  }
 },
 "nbformat": 4,
 "nbformat_minor": 2
}
