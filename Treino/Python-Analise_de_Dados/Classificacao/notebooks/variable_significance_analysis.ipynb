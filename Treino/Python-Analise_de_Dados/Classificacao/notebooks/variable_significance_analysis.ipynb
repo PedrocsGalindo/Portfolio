{
 "cells": [
  {
   "cell_type": "code",
   "execution_count": 24,
   "metadata": {},
   "outputs": [],
   "source": [
    "import pandas as pd\n",
    "import json\n",
    "\n",
    "with open('../data/processed/dados_por_genero_e_regiao.json', 'r') as file:\n",
    "    dict_dts = json.load(file)\n",
    "\n",
    "dataframes = {key: pd.DataFrame(value) for key, value in dict_dts.items()}\n"
   ]
  },
  {
   "cell_type": "code",
   "execution_count": 25,
   "metadata": {},
   "outputs": [],
   "source": [
    "def analise_corr(df, lista_colunas, variavel_alvo):\n",
    "    df_ax = df.drop(columns=lista_colunas)\n",
    "    matrix_corr = df_ax.corr()\n",
    "    corr_with_member = matrix_corr[variavel_alvo].sort_values(ascending=False)\n",
    "    print(corr_with_member)\n",
    "    print()"
   ]
  },
  {
   "cell_type": "code",
   "execution_count": 26,
   "metadata": {},
   "outputs": [
    {
     "name": "stdout",
     "output_type": "stream",
     "text": [
      "France_Male\n",
      "IsActiveMember     1.000000\n",
      "Age                0.132663\n",
      "NumOfProducts      0.036188\n",
      "CreditScore        0.009679\n",
      "HasCrCard         -0.011299\n",
      "EstimatedSalary   -0.019158\n",
      "Balance           -0.024686\n",
      "Tenure            -0.039610\n",
      "Exited            -0.105559\n",
      "Name: IsActiveMember, dtype: float64\n",
      "\n",
      "France_Female\n",
      "IsActiveMember     1.000000\n",
      "Age                0.083338\n",
      "CreditScore        0.057354\n",
      "HasCrCard         -0.001529\n",
      "NumOfProducts     -0.006366\n",
      "Tenure            -0.011485\n",
      "Balance           -0.013127\n",
      "EstimatedSalary   -0.017022\n",
      "Exited            -0.131233\n",
      "Name: IsActiveMember, dtype: float64\n",
      "\n",
      "Germany_Male\n",
      "IsActiveMember     1.000000\n",
      "CreditScore        0.055513\n",
      "Age                0.029658\n",
      "NumOfProducts      0.025887\n",
      "EstimatedSalary    0.004373\n",
      "HasCrCard         -0.008078\n",
      "Balance           -0.017355\n",
      "Tenure            -0.057300\n",
      "Exited            -0.216963\n",
      "Name: IsActiveMember, dtype: float64\n",
      "\n",
      "Germany_Female\n",
      "IsActiveMember     1.000000\n",
      "NumOfProducts      0.029469\n",
      "Balance            0.026181\n",
      "Age                0.025546\n",
      "CreditScore       -0.032953\n",
      "EstimatedSalary   -0.038869\n",
      "HasCrCard         -0.051599\n",
      "Tenure            -0.062653\n",
      "Exited            -0.146217\n",
      "Name: IsActiveMember, dtype: float64\n",
      "\n",
      "Spain_Male\n",
      "IsActiveMember     1.000000\n",
      "Age                0.140084\n",
      "Balance            0.069467\n",
      "CreditScore        0.012471\n",
      "EstimatedSalary    0.004356\n",
      "HasCrCard         -0.020517\n",
      "Tenure            -0.039857\n",
      "NumOfProducts     -0.066052\n",
      "Exited            -0.132975\n",
      "Name: IsActiveMember, dtype: float64\n",
      "\n",
      "Spain_Female\n",
      "IsActiveMember     1.000000\n",
      "Age                0.119154\n",
      "EstimatedSalary    0.065465\n",
      "Balance            0.011395\n",
      "Tenure            -0.001638\n",
      "HasCrCard         -0.011245\n",
      "CreditScore       -0.034774\n",
      "NumOfProducts     -0.059591\n",
      "Exited            -0.178286\n",
      "Name: IsActiveMember, dtype: float64\n",
      "\n"
     ]
    }
   ],
   "source": [
    "for df in dataframes:\n",
    "    print(df)\n",
    "    analise_corr(df=dataframes[df],lista_colunas=['Geography','Gender'], variavel_alvo='IsActiveMember')\n",
    "    "
   ]
  }
 ],
 "metadata": {
  "kernelspec": {
   "display_name": "base",
   "language": "python",
   "name": "python3"
  },
  "language_info": {
   "codemirror_mode": {
    "name": "ipython",
    "version": 3
   },
   "file_extension": ".py",
   "mimetype": "text/x-python",
   "name": "python",
   "nbconvert_exporter": "python",
   "pygments_lexer": "ipython3",
   "version": "3.12.7"
  }
 },
 "nbformat": 4,
 "nbformat_minor": 2
}
